{
 "cells": [
  {
   "cell_type": "code",
   "execution_count": 7,
   "id": "34935fda",
   "metadata": {},
   "outputs": [],
   "source": [
    "import matplotlib.pyplot as plt\n",
    "import seaborn as sns\n",
    "import pandas as pd\n",
    "from pathlib import Path\n",
    "import numpy as np\n",
    "import networkx as nx\n",
    "from castle.datasets import IIDSimulation, DAG\n",
    "from matplotlib.colors import ListedColormap\n",
    "sns.set_style({'font.family':'serif', 'font.size':'10', 'font.serif':['Times New Roman']})\n",
    "#color_array = np.array([[240,240,240],[189,189,189],[99,99,99]])/255 # gray\n",
    "color_array = np.array([[102,194,165],[252,141,98],[141,160,203]])/255 # https://colorbrewer2.org/?type=diverging&scheme=RdBu&n=11#type=qualitative&scheme=Set2&n=3\n",
    "cmap = ListedColormap(color_array)\n",
    "figures_path = Path(\"figures\")"
   ]
  },
  {
   "cell_type": "code",
   "execution_count": 8,
   "id": "25b0ace3",
   "metadata": {},
   "outputs": [],
   "source": [
    "def full_DAG(top_order):\n",
    "    d = len(top_order)\n",
    "    A = np.zeros((d,d))\n",
    "    for i, var in enumerate(top_order):\n",
    "        A[var, top_order[i+1:]] = 1\n",
    "    return A"
   ]
  },
  {
   "cell_type": "code",
   "execution_count": 9,
   "id": "ab0d30d2",
   "metadata": {},
   "outputs": [
    {
     "data": {
      "image/png": "[encoded data removed]",
      "text/plain": [
       "<Figure size 216x216 with 1 Axes>"
      ]
     },
     "metadata": {},
     "output_type": "display_data"
    }
   ],
   "source": [
    "n_nodes, n_edges = 4, 2\n",
    "random_dag = DAG.scale_free(n_nodes=n_nodes, n_edges=n_edges*n_nodes, seed=2)\n",
    "dag = nx.from_numpy_matrix(random_dag, create_using=nx.DiGraph)\n",
    "#adj = nx.to_numpy_matrix(graph)\n",
    "#A = nx.nx_agraph.to_agraph(dag)\n",
    "fig = plt.figure(figsize=(3,3))\n",
    "nodes_name = {0:\"A\", 1:\"B\", 2:\"C\", 3:\"D\"}\n",
    "nx.draw_networkx(dag, pos = nx.drawing.layout.circular_layout(dag), #circular_layout\n",
    "                            node_size = 500, node_shape = '8', node_color = '#8da0cb',\n",
    "                            arrows=True, linewidths = 2.0, width = 2,\n",
    "                            with_labels=True, labels = nodes_name, font_family = 'serif', font_size = 10)\n",
    "#plt.savefig(figures_path / \"graph_sample.svg\")"
   ]
  },
  {
   "cell_type": "code",
   "execution_count": 10,
   "id": "d92f83b7",
   "metadata": {},
   "outputs": [
    {
     "data": {
      "text/plain": [
       "(['C', 'D', 'A', 'B'],\n",
       " [2, 3, 0, 1],\n",
       " array([[0., 1., 0., 0.],\n",
       "        [0., 0., 0., 0.],\n",
       "        [1., 1., 0., 1.],\n",
       "        [1., 1., 0., 0.]]),\n",
       " array([[0., 0., 0., 0.],\n",
       "        [0., 0., 0., 0.],\n",
       "        [1., 0., 0., 1.],\n",
       "        [1., 1., 0., 0.]]))"
      ]
     },
     "execution_count": 10,
     "metadata": {},
     "output_type": "execute_result"
    }
   ],
   "source": [
    "order_sort = list(list(nx.topological_sort(dag)))\n",
    "order_named = list(map(nodes_name.get, order_sort))\n",
    "order_named, order_sort , full_DAG(order_sort), random_dag"
   ]
  },
  {
   "cell_type": "code",
   "execution_count": 11,
   "id": "3c88b543",
   "metadata": {},
   "outputs": [
    {
     "data": {
      "image/png": "[encoded data removed]",
      "text/plain": [
       "<Figure size 144x144 with 2 Axes>"
      ]
     },
     "metadata": {
      "needs_background": "light"
     },
     "output_type": "display_data"
    }
   ],
   "source": [
    "both = pd.DataFrame(full_DAG(order_sort) + random_dag,index=list(nodes_name.values()), columns=list(nodes_name.values()))\n",
    "fig = plt.figure(figsize=(2,2))\n",
    "ax = sns.heatmap(both -1 , center=0,\n",
    "            square=True, linewidths=0.1,cmap= cmap, cbar_kws={\"shrink\": .5})\n",
    "ax.xaxis.tick_top() # x axis on top\n",
    "ax.xaxis.set_label_position('top')\n",
    "colorbar = ax.collections[0].colorbar\n",
    "colorbar.set_ticks([-1, 0, 1])\n",
    "colorbar.set_ticklabels(['Impossible', 'To Prune', 'Real Edges'])\n",
    "plt.savefig(figures_path / \"adj_after_pruning.svg\")"
   ]
  }
 ],
 "metadata": {
  "kernelspec": {
   "display_name": "Python 3.10.5 ('functorch_v1')",
   "language": "python",
   "name": "python3"
  },
  "language_info": {
   "codemirror_mode": {
    "name": "ipython",
    "version": 3
   },
   "file_extension": ".py",
   "mimetype": "text/x-python",
   "name": "python",
   "nbconvert_exporter": "python",
   "pygments_lexer": "ipython3",
   "version": "3.10.5"
  },
  "vscode": {
   "interpreter": {
    "hash": "14c74fd9c2fb129d79cfb44a143c38884919c24e681412c9f3ee24bcd548376f"
   }
  }
 },
 "nbformat": 4,
 "nbformat_minor": 5
}
